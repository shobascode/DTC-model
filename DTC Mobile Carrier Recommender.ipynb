{
 "cells": [
  {
   "cell_type": "markdown",
   "id": "e22de6b3",
   "metadata": {},
   "source": [
    "# Mission briefing: Operation Smart or Ultra?\n",
    "Mobile carrier Megaline has found out that many of their subscribers use legacy plans. They want to develop a model that would analyze subscribers' behavior and recommend one of Megaline's newer plans: Smart or Ultra. You have access to behavior data about subscribers who have already switched to the new plans. For this classification task, you need to develop a model that will pick the right plan. Since you are working with pre-processed data, you can move straight to creating the model. \n",
    "\n",
    "**Goal:** Develop a model that recommends one of Megaline's plans: Smart or Ultra with the highest possible accuracy. The threshold for accuracy is 0.75."
   ]
  },
  {
   "cell_type": "markdown",
   "id": "9ff04a5c",
   "metadata": {},
   "source": [
    "### Understanding the data\n",
    "Every observation in the dataset contains monthly behavior information about one user. The information given is as follows: \n",
    "- сalls — number of calls\n",
    "- minutes — total call duration in minutes\n",
    "- messages — number of text messages\n",
    "- mb_used — Internet traffic used in MB\n",
    "- is_ultra — plan for the current month (Ultra - 1, Smart - 0)"
   ]
  },
  {
   "cell_type": "code",
   "execution_count": 1,
   "id": "1e1883b4",
   "metadata": {},
   "outputs": [],
   "source": [
    "import pandas as pd\n",
    "from sklearn.model_selection import train_test_split\n",
    "from sklearn.tree import DecisionTreeClassifier\n",
    "from sklearn.metrics import accuracy_score, confusion_matrix\n",
    "import numpy as np\n",
    "import matplotlib.pyplot as plt\n",
    "import seaborn as sns"
   ]
  },
  {
   "cell_type": "code",
   "execution_count": 2,
   "id": "91dc9b5d",
   "metadata": {},
   "outputs": [
    {
     "data": {
      "text/html": [
       "<div>\n",
       "<style scoped>\n",
       "    .dataframe tbody tr th:only-of-type {\n",
       "        vertical-align: middle;\n",
       "    }\n",
       "\n",
       "    .dataframe tbody tr th {\n",
       "        vertical-align: top;\n",
       "    }\n",
       "\n",
       "    .dataframe thead th {\n",
       "        text-align: right;\n",
       "    }\n",
       "</style>\n",
       "<table border=\"1\" class=\"dataframe\">\n",
       "  <thead>\n",
       "    <tr style=\"text-align: right;\">\n",
       "      <th></th>\n",
       "      <th>calls</th>\n",
       "      <th>minutes</th>\n",
       "      <th>messages</th>\n",
       "      <th>mb_used</th>\n",
       "      <th>is_ultra</th>\n",
       "    </tr>\n",
       "  </thead>\n",
       "  <tbody>\n",
       "    <tr>\n",
       "      <th>0</th>\n",
       "      <td>40.0</td>\n",
       "      <td>311.90</td>\n",
       "      <td>83.0</td>\n",
       "      <td>19915.42</td>\n",
       "      <td>0</td>\n",
       "    </tr>\n",
       "    <tr>\n",
       "      <th>1</th>\n",
       "      <td>85.0</td>\n",
       "      <td>516.75</td>\n",
       "      <td>56.0</td>\n",
       "      <td>22696.96</td>\n",
       "      <td>0</td>\n",
       "    </tr>\n",
       "    <tr>\n",
       "      <th>2</th>\n",
       "      <td>77.0</td>\n",
       "      <td>467.66</td>\n",
       "      <td>86.0</td>\n",
       "      <td>21060.45</td>\n",
       "      <td>0</td>\n",
       "    </tr>\n",
       "    <tr>\n",
       "      <th>3</th>\n",
       "      <td>106.0</td>\n",
       "      <td>745.53</td>\n",
       "      <td>81.0</td>\n",
       "      <td>8437.39</td>\n",
       "      <td>1</td>\n",
       "    </tr>\n",
       "    <tr>\n",
       "      <th>4</th>\n",
       "      <td>66.0</td>\n",
       "      <td>418.74</td>\n",
       "      <td>1.0</td>\n",
       "      <td>14502.75</td>\n",
       "      <td>0</td>\n",
       "    </tr>\n",
       "  </tbody>\n",
       "</table>\n",
       "</div>"
      ],
      "text/plain": [
       "   calls  minutes  messages   mb_used  is_ultra\n",
       "0   40.0   311.90      83.0  19915.42         0\n",
       "1   85.0   516.75      56.0  22696.96         0\n",
       "2   77.0   467.66      86.0  21060.45         0\n",
       "3  106.0   745.53      81.0   8437.39         1\n",
       "4   66.0   418.74       1.0  14502.75         0"
      ]
     },
     "execution_count": 2,
     "metadata": {},
     "output_type": "execute_result"
    }
   ],
   "source": [
    "df = pd.read_csv('datasets/users_behavior.csv')\n",
    "df.head()"
   ]
  },
  {
   "cell_type": "markdown",
   "id": "36de7066",
   "metadata": {},
   "source": [
    "Our first step is to split this data into training, validation, and test sets. Training data will be used to train the model and learn patterns in the data. Validation data will be used to tune hyperparameters and select the best model. Lastly, test data will be used to evaluate the model's performance and generalizability on unseen data."
   ]
  },
  {
   "cell_type": "code",
   "execution_count": 3,
   "id": "baeabf66",
   "metadata": {},
   "outputs": [],
   "source": [
    "# split into training, validation, and test sets\n",
    "df_train, df_temp = train_test_split(df, test_size=0.3, random_state=12345)\n",
    "df_valid, df_test = train_test_split(df_temp, test_size=0.5, random_state=12345)"
   ]
  },
  {
   "cell_type": "code",
   "execution_count": 4,
   "id": "77d799d2",
   "metadata": {},
   "outputs": [],
   "source": [
    "# declare variables for features and target\n",
    "features_train = df_train.drop(['is_ultra'], axis=1)\n",
    "target_train = df_train['is_ultra']\n",
    "\n",
    "features_valid = df_valid.drop(['is_ultra'], axis=1)\n",
    "target_valid = df_valid['is_ultra']\n",
    "\n",
    "features_test = df_test.drop(['is_ultra'], axis=1)\n",
    "target_test = df_test['is_ultra']"
   ]
  },
  {
   "cell_type": "code",
   "execution_count": 5,
   "id": "6f8c7d8f",
   "metadata": {},
   "outputs": [
    {
     "name": "stdout",
     "output_type": "stream",
     "text": [
      "Shapes of datasets: \n",
      "\n",
      "features_train:  (2249, 4)\n",
      "target_train:    (2249,)\n",
      "\n",
      "features_valid:  (482, 4)\n",
      "target_valid:    (482,)\n",
      "\n",
      "features_test:   (483, 4)\n",
      "target_test:     (483,)\n"
     ]
    }
   ],
   "source": [
    "print('Shapes of datasets: \\n')\n",
    "print('features_train: ', features_train.shape)\n",
    "print('target_train:   ', target_train.shape)\n",
    "print('\\nfeatures_valid: ', features_valid.shape)\n",
    "print('target_valid:   ', target_valid.shape)\n",
    "print('\\nfeatures_test:  ', features_test.shape)\n",
    "print('target_test:    ', target_test.shape)"
   ]
  },
  {
   "cell_type": "markdown",
   "id": "b912ed09",
   "metadata": {},
   "source": [
    "### Building the model"
   ]
  },
  {
   "cell_type": "markdown",
   "id": "65321df9",
   "metadata": {},
   "source": [
    "Now lets use the Decision Tree Classifier as our learning algorithm. I experimented with different values of max depth from 1 to 5 using a loop to find the model resulting in highest accuracy."
   ]
  },
  {
   "cell_type": "code",
   "execution_count": 6,
   "id": "e27d44f7",
   "metadata": {},
   "outputs": [
    {
     "name": "stdout",
     "output_type": "stream",
     "text": [
      "max_depth = 1 : training accuracy = 0.7554468652734548, validation accuracy = 0.7510373443983402\n",
      "max_depth = 2 : training accuracy = 0.7852378835037794, validation accuracy = 0.7800829875518672\n",
      "max_depth = 3 : training accuracy = 0.8016896398399288, validation accuracy = 0.7863070539419087\n",
      "max_depth = 4 : training accuracy = 0.8043574922187638, validation accuracy = 0.7883817427385892\n",
      "max_depth = 5 : training accuracy = 0.8168074699866608, validation accuracy = 0.7614107883817427\n",
      "\n",
      "The best value for max_depth is 4 with training accuracy of 0.8043574922187638 and validation accuracy of 0.7883817427385892.\n"
     ]
    }
   ],
   "source": [
    "best_depth = 0\n",
    "best_accuracy_valid = 0\n",
    "best_accuracy_train = 0\n",
    "best_model_prediction = 0\n",
    "\n",
    "for i in range(1,6):\n",
    "    \n",
    "    model = DecisionTreeClassifier(random_state = 12345, max_depth = i)\n",
    "    \n",
    "    # fit on training data\n",
    "    model.fit(features_train, target_train) \n",
    "    \n",
    "    # calculate training accuracy\n",
    "    prediction_train = model.predict(features_train)\n",
    "    accuracy_train = accuracy_score(target_train, prediction_train)\n",
    "    \n",
    "    # calculate validation accuracy\n",
    "    prediction_valid = model.predict(features_valid)\n",
    "    accuracy_valid = accuracy_score(target_valid, prediction_valid)\n",
    "    \n",
    "    print(\"max_depth = {} : training accuracy = {}, validation accuracy = {}\".format(i, accuracy_train, accuracy_valid))\n",
    "    \n",
    "    if accuracy_valid > best_accuracy_valid:\n",
    "        best_depth = i\n",
    "        best_accuracy_valid = accuracy_valid\n",
    "        best_accuracy_train = accuracy_train\n",
    "        best_model_prediction = prediction_valid\n",
    "    \n",
    "print(\"\\nThe best value for max_depth is {} with training accuracy of {} and validation accuracy of {}.\".format(best_depth, best_accuracy_train, best_accuracy_valid))"
   ]
  },
  {
   "cell_type": "markdown",
   "id": "491ac8d0",
   "metadata": {},
   "source": [
    "In general, when we have a higher training accuracy compared to validation accuracy, this can indicate potential overfitting, where the model learns to perform well on the training data but fails to generalize to unseen data. Ideally, we would want to use a model that maximizes validation accuracy while mainting a high training accuracy. In this case, max_depth = 4 seems to strike a good balance, as it has a high training accuracy (0.804) and a relatively high validation accuracy (0.788). Although the training accuracy is a little bit higher than validation accuracy, it is not significant enough to imply that the model is overfitting"
   ]
  },
  {
   "cell_type": "markdown",
   "id": "0df4ee38",
   "metadata": {},
   "source": [
    "To further understand our model's predictions, let's plot a confusion matrix. This helps to compare predictions with actual values and understand the distribution of true/false positives and negatives."
   ]
  },
  {
   "cell_type": "code",
   "execution_count": 10,
   "id": "25145087",
   "metadata": {},
   "outputs": [
    {
     "data": {
      "image/png": "[encoded data removed]",
      "text/plain": [
       "<Figure size 500x400 with 2 Axes>"
      ]
     },
     "metadata": {},
     "output_type": "display_data"
    }
   ],
   "source": [
    "conf_matrix = confusion_matrix(target_valid, prediction_valid)\n",
    "\n",
    "plt.figure(figsize=(5, 4))\n",
    "sns.heatmap(conf_matrix, annot=True, cmap=\"Blues\", fmt=\"d\", \n",
    "            xticklabels=['Predicted Smart', 'Predicted Ultra'], \n",
    "            yticklabels=['Actual Smart', 'Actual Ultra'])\n",
    "plt.title('Predictions vs actual values')\n",
    "plt.show()"
   ]
  },
  {
   "cell_type": "code",
   "execution_count": 12,
   "id": "0e27c3c1",
   "metadata": {},
   "outputs": [
    {
     "name": "stdout",
     "output_type": "stream",
     "text": [
      "0.7515527950310559\n"
     ]
    }
   ],
   "source": [
    "# evaluate on test data\n",
    "prediction_test = model.predict(features_test)\n",
    "accuracy_test = accuracy_score(target_test, prediction_test)\n",
    "print(accuracy_test)"
   ]
  },
  {
   "cell_type": "markdown",
   "id": "59b81638",
   "metadata": {},
   "source": [
    "Although the accuracy score on test data was not as high as training and validation, it still passes the threshold for accuracy as stated in the mission briefing so we are good to go!"
   ]
  },
  {
   "cell_type": "markdown",
   "id": "adb203a5",
   "metadata": {},
   "source": [
    "### Performing a sanity check\n",
    "Let's compare the training and testing accuracy to check whether the model is overfitting. If the training accuracy is significantly higher, it may be overfitting.\n",
    "\n",
    "Training accuracy: 0.8043574922187638\\\n",
    "Testing accuracy: 0.7515527950310559\n",
    "\n",
    "Although the training accuracy is a little bit higher than testing accuracy, it is not significant enough to imply that the model is overfitting"
   ]
  },
  {
   "cell_type": "markdown",
   "id": "621a2eca",
   "metadata": {},
   "source": [
    "### Summary\n",
    "Megaline, a mobile carrier, aims to recommend either the Smart or Ultra plans to subscribers based on their behavior. The goal is to develop a model with an accuracy threshold of 0.75 using behavior data from subscribers who have already switched to the new plans.\n",
    "\n",
    "1. Data was split into training, validation, and testing data.\n",
    "2. The Decision Tree Classifier was chosen as the learning algorithm.\n",
    "3. A loop was implemented to find the optimal value for the 'max_depth' hyperparameter with values from 1 to 5.\n",
    "4. After tuning the 'max_depth' hyperparameter, it was determined that the ideal value is 4. A confusion matrix was created to help visualize the amount of values that were true positive, false positive, true negative, and false negative predictions. \n",
    "6. Testing accuracy was found to be 0.7515527950310559. To ensure the model's generalization ability, training and testing accuracy were compared. Although there is a difference between the accuracies, it is small enough to suggest that the model is not significantly overfitting.\n",
    "\n",
    "In conclusion, the Decision Tree Classifier with a 'max_depth' of 4 is a suitable model for recommending Megaline's plans based on subscriber behavior. The model's accuracy meets the threshold of 0.75, and the slight difference between training and testing accuracy indicates that the model is well-balanced and not prone to overfitting. This model can be employed to recommend the appropriate plans to Megaline subscribers."
   ]
  }
 ],
 "metadata": {
  "kernelspec": {
   "display_name": "Python 3 (ipykernel)",
   "language": "python",
   "name": "python3"
  },
  "language_info": {
   "codemirror_mode": {
    "name": "ipython",
    "version": 3
   },
   "file_extension": ".py",
   "mimetype": "text/x-python",
   "name": "python",
   "nbconvert_exporter": "python",
   "pygments_lexer": "ipython3",
   "version": "3.9.13"
  }
 },
 "nbformat": 4,
 "nbformat_minor": 5
}
